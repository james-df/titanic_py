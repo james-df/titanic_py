{
 "cells": [
  {
   "cell_type": "markdown",
   "metadata": {},
   "source": [
    "### Titanic Python Exercise\n",
    "\n",
    "Work book for first programming exercise\n"
   ]
  },
  {
   "cell_type": "code",
   "execution_count": 6,
   "metadata": {
    "scrolled": true
   },
   "outputs": [
    {
     "name": "stdout",
     "output_type": "stream",
     "text": [
      "Welcome to the first programming exercise\n"
     ]
    }
   ],
   "source": [
    "print (\"Welcome to the first programming exercise\")"
   ]
  },
  {
   "cell_type": "code",
   "execution_count": 73,
   "metadata": {
    "scrolled": false
   },
   "outputs": [
    {
     "name": "stdout",
     "output_type": "stream",
     "text": [
      "891\n",
      "0    549\n",
      "1    342\n",
      "Name: Survived, dtype: int64\n",
      "0    0.616162\n",
      "1    0.383838\n",
      "Name: Survived, dtype: float64\n"
     ]
    },
    {
     "data": {
      "image/png": "[encoded data removed]",
      "text/plain": [
       "<matplotlib.figure.Figure at 0x114f0d748>"
      ]
     },
     "metadata": {},
     "output_type": "display_data"
    }
   ],
   "source": [
    "#Import libraries\n",
    "import pandas as pd\n",
    "import numpy as np\n",
    "import matplotlib.pyplot as plt\n",
    "\n",
    "#Read data\n",
    "train = pd.read_csv(\"train.csv\")\n",
    "test = pd.read_csv(\"test.csv\")\n",
    "\n",
    "#print first few rows\n",
    "#train.head()\n",
    "#test.head()\n",
    "\n",
    "#train.describe() #summary descriptive stats\n",
    "#list(train) #list the headings\n",
    "\n",
    "# Convert Pclass and Survived to objects in the training data\n",
    "train['Pclass'] = train['Pclass'].astype(object)\n",
    "train['Survived'] = train['Survived'].astype(object)\n",
    "\n",
    "# Check out what data types are included\n",
    "#train.dtypes\n",
    "\n",
    "#check dataset for duplicate passenger names\n",
    "total_pass = len(np.unique(train[\"Name\"]))\n",
    "print (total_pass)\n",
    "\n",
    "# Explore the data a bit\n",
    "survived = train[\"Survived\"].value_counts() \n",
    "survived_ratio = (survived / total_pass)\n",
    "print (survived)\n",
    "print (survived_ratio)\n",
    "\n",
    "# Generate stacked bar chart showing survival outcome and gender\n",
    "train.groupby(['Sex', 'Survived']).size().unstack().plot(kind='bar', stacked=True)\n",
    "plt.title('Survival outcome by gender')\n",
    "plt.show()"
   ]
  },
  {
   "cell_type": "code",
   "execution_count": null,
   "metadata": {
    "collapsed": true
   },
   "outputs": [],
   "source": []
  }
 ],
 "metadata": {
  "kernelspec": {
   "display_name": "Python 3",
   "language": "python",
   "name": "python3"
  },
  "language_info": {
   "codemirror_mode": {
    "name": "ipython",
    "version": 3
   },
   "file_extension": ".py",
   "mimetype": "text/x-python",
   "name": "python",
   "nbconvert_exporter": "python",
   "pygments_lexer": "ipython3",
   "version": "3.6.3"
  }
 },
 "nbformat": 4,
 "nbformat_minor": 2
}
